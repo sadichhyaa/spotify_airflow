{
 "cells": [
  {
   "cell_type": "code",
   "execution_count": 2,
   "metadata": {},
   "outputs": [],
   "source": [
    "import pandas as pd\n"
   ]
  },
  {
   "cell_type": "code",
   "execution_count": 10,
   "metadata": {},
   "outputs": [],
   "source": [
    "album_csv=pd.read_csv('album.csv')"
   ]
  },
  {
   "cell_type": "code",
   "execution_count": 11,
   "metadata": {},
   "outputs": [],
   "source": [
    "artist_csv=pd.read_csv('artist.csv')\n",
    "song_csv=pd.read_csv('song.csv')"
   ]
  },
  {
   "cell_type": "code",
   "execution_count": 12,
   "metadata": {},
   "outputs": [
    {
     "data": {
      "text/plain": [
       "0     5Dbax7G8SWrP9xyzkOvy2F\n",
       "1     70lQYZtypdCALtFVlQAcvx\n",
       "2     0bCAjiUamIFqKJsekOYuRw\n",
       "3     6v5IVMmY1IvWtbfnQoiFSf\n",
       "4     4LH4d3cOWNNsVw41Gqt2kv\n",
       "5     1zcm3UvHNHpseYOUfd0pna\n",
       "6     5F0IQXuHfTV7SBvZVnXERl\n",
       "7     32NQ56VZDTXSH3SMv4XSGN\n",
       "8     6P5QHz4XtxOmS5EuiGIPut\n",
       "9     5Dbax7G8SWrP9xyzkOvy2F\n",
       "10    7IKUTIc9UWuVngyGPtqNHS\n",
       "11    4LH4d3cOWNNsVw41Gqt2kv\n",
       "12    4X87hQ57jTYQTcYTaJWK5w\n",
       "13    0bCAjiUamIFqKJsekOYuRw\n",
       "14    5z090LQztiqh13wYspQvKQ\n",
       "15    44Ig8dzqOkvkGDzaUof9lK\n",
       "16    5Dbax7G8SWrP9xyzkOvy2F\n",
       "Name: album_id, dtype: object"
      ]
     },
     "execution_count": 12,
     "metadata": {},
     "output_type": "execute_result"
    }
   ],
   "source": [
    "album_csv['album_id']"
   ]
  },
  {
   "cell_type": "code",
   "execution_count": null,
   "metadata": {},
   "outputs": [],
   "source": [
    "album_csv['release_date'] = pd.to_datetime(album_csv['release_date'])\n"
   ]
  },
  {
   "cell_type": "code",
   "execution_count": 3,
   "metadata": {},
   "outputs": [],
   "source": [
    "song_df=pd.read_csv('./song.csv')"
   ]
  },
  {
   "cell_type": "code",
   "execution_count": 4,
   "metadata": {},
   "outputs": [
    {
     "data": {
      "text/plain": [
       "unique_id          object\n",
       "song_id            object\n",
       "song_name          object\n",
       "song_duration       int64\n",
       "song_url           object\n",
       "song_popularity     int64\n",
       "song_played_at     object\n",
       "album_id           object\n",
       "artist_id          object\n",
       "dtype: object"
      ]
     },
     "execution_count": 4,
     "metadata": {},
     "output_type": "execute_result"
    }
   ],
   "source": [
    "song_df.dtypes"
   ]
  },
  {
   "cell_type": "code",
   "execution_count": null,
   "metadata": {},
   "outputs": [],
   "source": []
  },
  {
   "cell_type": "code",
   "execution_count": 13,
   "metadata": {},
   "outputs": [
    {
     "data": {
      "text/html": [
       "<div>\n",
       "<style scoped>\n",
       "    .dataframe tbody tr th:only-of-type {\n",
       "        vertical-align: middle;\n",
       "    }\n",
       "\n",
       "    .dataframe tbody tr th {\n",
       "        vertical-align: top;\n",
       "    }\n",
       "\n",
       "    .dataframe thead th {\n",
       "        text-align: right;\n",
       "    }\n",
       "</style>\n",
       "<table border=\"1\" class=\"dataframe\">\n",
       "  <thead>\n",
       "    <tr style=\"text-align: right;\">\n",
       "      <th></th>\n",
       "      <th>album_id</th>\n",
       "      <th>name</th>\n",
       "      <th>release_date</th>\n",
       "      <th>total_tracks</th>\n",
       "      <th>url</th>\n",
       "    </tr>\n",
       "  </thead>\n",
       "  <tbody>\n",
       "    <tr>\n",
       "      <th>0</th>\n",
       "      <td>5Dbax7G8SWrP9xyzkOvy2F</td>\n",
       "      <td>The Wall</td>\n",
       "      <td>1979-11-30</td>\n",
       "      <td>26</td>\n",
       "      <td>https://open.spotify.com/album/5Dbax7G8SWrP9xy...</td>\n",
       "    </tr>\n",
       "    <tr>\n",
       "      <th>1</th>\n",
       "      <td>70lQYZtypdCALtFVlQAcvx</td>\n",
       "      <td>Led Zeppelin II (1994 Remaster)</td>\n",
       "      <td>1969-10-22</td>\n",
       "      <td>9</td>\n",
       "      <td>https://open.spotify.com/album/70lQYZtypdCALtF...</td>\n",
       "    </tr>\n",
       "    <tr>\n",
       "      <th>2</th>\n",
       "      <td>0bCAjiUamIFqKJsekOYuRw</td>\n",
       "      <td>Wish You Were Here</td>\n",
       "      <td>1975-09-12</td>\n",
       "      <td>5</td>\n",
       "      <td>https://open.spotify.com/album/0bCAjiUamIFqKJs...</td>\n",
       "    </tr>\n",
       "    <tr>\n",
       "      <th>3</th>\n",
       "      <td>6v5IVMmY1IvWtbfnQoiFSf</td>\n",
       "      <td>Strange Days</td>\n",
       "      <td>1967-09-25</td>\n",
       "      <td>10</td>\n",
       "      <td>https://open.spotify.com/album/6v5IVMmY1IvWtbf...</td>\n",
       "    </tr>\n",
       "    <tr>\n",
       "      <th>4</th>\n",
       "      <td>4LH4d3cOWNNsVw41Gqt2kv</td>\n",
       "      <td>The Dark Side of the Moon</td>\n",
       "      <td>1973-03-01</td>\n",
       "      <td>10</td>\n",
       "      <td>https://open.spotify.com/album/4LH4d3cOWNNsVw4...</td>\n",
       "    </tr>\n",
       "    <tr>\n",
       "      <th>5</th>\n",
       "      <td>1zcm3UvHNHpseYOUfd0pna</td>\n",
       "      <td>Breakfast In America (Deluxe Edition)</td>\n",
       "      <td>1979-03-29</td>\n",
       "      <td>22</td>\n",
       "      <td>https://open.spotify.com/album/1zcm3UvHNHpseYO...</td>\n",
       "    </tr>\n",
       "    <tr>\n",
       "      <th>6</th>\n",
       "      <td>5F0IQXuHfTV7SBvZVnXERl</td>\n",
       "      <td>The Division Bell</td>\n",
       "      <td>1994</td>\n",
       "      <td>11</td>\n",
       "      <td>https://open.spotify.com/album/5F0IQXuHfTV7SBv...</td>\n",
       "    </tr>\n",
       "    <tr>\n",
       "      <th>7</th>\n",
       "      <td>32NQ56VZDTXSH3SMv4XSGN</td>\n",
       "      <td>Machine Head (Remastered)</td>\n",
       "      <td>1972-03-25</td>\n",
       "      <td>8</td>\n",
       "      <td>https://open.spotify.com/album/32NQ56VZDTXSH3S...</td>\n",
       "    </tr>\n",
       "    <tr>\n",
       "      <th>8</th>\n",
       "      <td>6P5QHz4XtxOmS5EuiGIPut</td>\n",
       "      <td>Led Zeppelin III (Remaster)</td>\n",
       "      <td>1970</td>\n",
       "      <td>10</td>\n",
       "      <td>https://open.spotify.com/album/6P5QHz4XtxOmS5E...</td>\n",
       "    </tr>\n",
       "    <tr>\n",
       "      <th>10</th>\n",
       "      <td>7IKUTIc9UWuVngyGPtqNHS</td>\n",
       "      <td>L.A. Woman</td>\n",
       "      <td>1971-04-19</td>\n",
       "      <td>10</td>\n",
       "      <td>https://open.spotify.com/album/7IKUTIc9UWuVngy...</td>\n",
       "    </tr>\n",
       "    <tr>\n",
       "      <th>12</th>\n",
       "      <td>4X87hQ57jTYQTcYTaJWK5w</td>\n",
       "      <td>Even In The Quietest Moments</td>\n",
       "      <td>1977-01-01</td>\n",
       "      <td>7</td>\n",
       "      <td>https://open.spotify.com/album/4X87hQ57jTYQTcY...</td>\n",
       "    </tr>\n",
       "    <tr>\n",
       "      <th>14</th>\n",
       "      <td>5z090LQztiqh13wYspQvKQ</td>\n",
       "      <td>Electric Ladyland</td>\n",
       "      <td>1968-10-25</td>\n",
       "      <td>16</td>\n",
       "      <td>https://open.spotify.com/album/5z090LQztiqh13w...</td>\n",
       "    </tr>\n",
       "    <tr>\n",
       "      <th>15</th>\n",
       "      <td>44Ig8dzqOkvkGDzaUof9lK</td>\n",
       "      <td>Led Zeppelin IV (Deluxe Edition)</td>\n",
       "      <td>1971-11-08</td>\n",
       "      <td>16</td>\n",
       "      <td>https://open.spotify.com/album/44Ig8dzqOkvkGDz...</td>\n",
       "    </tr>\n",
       "  </tbody>\n",
       "</table>\n",
       "</div>"
      ],
      "text/plain": [
       "                  album_id                                   name  \\\n",
       "0   5Dbax7G8SWrP9xyzkOvy2F                               The Wall   \n",
       "1   70lQYZtypdCALtFVlQAcvx        Led Zeppelin II (1994 Remaster)   \n",
       "2   0bCAjiUamIFqKJsekOYuRw                     Wish You Were Here   \n",
       "3   6v5IVMmY1IvWtbfnQoiFSf                           Strange Days   \n",
       "4   4LH4d3cOWNNsVw41Gqt2kv              The Dark Side of the Moon   \n",
       "5   1zcm3UvHNHpseYOUfd0pna  Breakfast In America (Deluxe Edition)   \n",
       "6   5F0IQXuHfTV7SBvZVnXERl                      The Division Bell   \n",
       "7   32NQ56VZDTXSH3SMv4XSGN              Machine Head (Remastered)   \n",
       "8   6P5QHz4XtxOmS5EuiGIPut            Led Zeppelin III (Remaster)   \n",
       "10  7IKUTIc9UWuVngyGPtqNHS                             L.A. Woman   \n",
       "12  4X87hQ57jTYQTcYTaJWK5w           Even In The Quietest Moments   \n",
       "14  5z090LQztiqh13wYspQvKQ                      Electric Ladyland   \n",
       "15  44Ig8dzqOkvkGDzaUof9lK       Led Zeppelin IV (Deluxe Edition)   \n",
       "\n",
       "   release_date  total_tracks  \\\n",
       "0    1979-11-30            26   \n",
       "1    1969-10-22             9   \n",
       "2    1975-09-12             5   \n",
       "3    1967-09-25            10   \n",
       "4    1973-03-01            10   \n",
       "5    1979-03-29            22   \n",
       "6          1994            11   \n",
       "7    1972-03-25             8   \n",
       "8          1970            10   \n",
       "10   1971-04-19            10   \n",
       "12   1977-01-01             7   \n",
       "14   1968-10-25            16   \n",
       "15   1971-11-08            16   \n",
       "\n",
       "                                                  url  \n",
       "0   https://open.spotify.com/album/5Dbax7G8SWrP9xy...  \n",
       "1   https://open.spotify.com/album/70lQYZtypdCALtF...  \n",
       "2   https://open.spotify.com/album/0bCAjiUamIFqKJs...  \n",
       "3   https://open.spotify.com/album/6v5IVMmY1IvWtbf...  \n",
       "4   https://open.spotify.com/album/4LH4d3cOWNNsVw4...  \n",
       "5   https://open.spotify.com/album/1zcm3UvHNHpseYO...  \n",
       "6   https://open.spotify.com/album/5F0IQXuHfTV7SBv...  \n",
       "7   https://open.spotify.com/album/32NQ56VZDTXSH3S...  \n",
       "8   https://open.spotify.com/album/6P5QHz4XtxOmS5E...  \n",
       "10  https://open.spotify.com/album/7IKUTIc9UWuVngy...  \n",
       "12  https://open.spotify.com/album/4X87hQ57jTYQTcY...  \n",
       "14  https://open.spotify.com/album/5z090LQztiqh13w...  \n",
       "15  https://open.spotify.com/album/44Ig8dzqOkvkGDz...  "
      ]
     },
     "execution_count": 13,
     "metadata": {},
     "output_type": "execute_result"
    }
   ],
   "source": [
    "album_csv.drop_duplicates(subset=['album_id'])"
   ]
  }
 ],
 "metadata": {
  "kernelspec": {
   "display_name": "venv",
   "language": "python",
   "name": "python3"
  },
  "language_info": {
   "codemirror_mode": {
    "name": "ipython",
    "version": 3
   },
   "file_extension": ".py",
   "mimetype": "text/x-python",
   "name": "python",
   "nbconvert_exporter": "python",
   "pygments_lexer": "ipython3",
   "version": "3.10.7"
  },
  "orig_nbformat": 4,
  "vscode": {
   "interpreter": {
    "hash": "2dac01fead815c30d477bf73199f771f6b0ecb00005a4106df730b792d59e77f"
   }
  }
 },
 "nbformat": 4,
 "nbformat_minor": 2
}
